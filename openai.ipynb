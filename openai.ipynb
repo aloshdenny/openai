{
 "cells": [
  {
   "cell_type": "markdown",
   "id": "dfc1122b",
   "metadata": {},
   "source": [
    "# OpenAI Responses API"
   ]
  },
  {
   "cell_type": "markdown",
   "id": "bdb86db4",
   "metadata": {},
   "source": [
    "### Available models:\n",
    "\n",
    "1. gpt-4 (not used)\n",
    "2. gpt-4o (currently used)\n",
    "3. gpt-4o-mini (faster)\n",
    "4. gpt-4.1 (bigger; slow)\n",
    "5. gpt-4.1-mini, gpt-4.1-nano\n",
    "\n",
    "### Available reasoning models:\n",
    "\n",
    "1. o4-mini (best reasoning; slow)\n",
    "2. o3 (medium reasoning)\n",
    "3. o1 (medium reasoning)\n",
    "4. o3-mini (least reasoning; fast)"
   ]
  },
  {
   "cell_type": "code",
   "execution_count": null,
   "id": "9358a4d7",
   "metadata": {},
   "outputs": [],
   "source": [
    "from openai import OpenAI\n",
    "client = OpenAI(api_key=\"\")"
   ]
  },
  {
   "cell_type": "code",
   "execution_count": 17,
   "id": "7147365e",
   "metadata": {},
   "outputs": [
    {
     "name": "stdout",
     "output_type": "stream",
     "text": [
      "Once there was a unicorn named Luna who painted the night sky with her shimmering horn, filling everyone's dreams with colors never seen before.\n"
     ]
    }
   ],
   "source": [
    "# OpenAI Response API\n",
    "\n",
    "response = client.responses.create(\n",
    "    model=\"gpt-4o\",\n",
    "    input=\"Write a one-sentence bedtime story about a unicorn.\"\n",
    ")\n",
    "\n",
    "print(response.output_text)"
   ]
  },
  {
   "cell_type": "code",
   "execution_count": null,
   "id": "aebb4556",
   "metadata": {},
   "outputs": [
    {
     "name": "stdout",
     "output_type": "stream",
     "text": [
      "Arrr, matey! When it comes to JavaScript, semicolons be mostly optional thanks to somethin’ called Automatic Semicolon Insertion (ASI). The JavaScript engine be tryin’ to save yer hide by puttin’ them in where it thinks they belong. But beware, ye scallywag! Sometimes, skipparoo semicolons can cause tricky bugs that be hard to spot on the high seas of code.\n",
      "\n",
      "So, while ye *can* sail without semicolons in many cases, it be wise to drop ‘em at the end of statements to keep yer ship steady and yer code clear. Ye best beware the places ASI might steer ye wrong, like return statements or lines startin’ with parentheses or square brackets!\n",
      "\n",
      "In short, semicolons be optional but recommended, lest ye want yer code to walk the plank! Arrr!\n"
     ]
    }
   ],
   "source": [
    "# Instructions mode\n",
    "\n",
    "response = client.responses.create(\n",
    "    model=\"gpt-4o-mini\",\n",
    "    instructions=\"Talk like a pirate.\",\n",
    "    input=\"Are semicolons optional in JavaScript?\",\n",
    ")\n",
    "\n",
    "print(response.output_text)"
   ]
  },
  {
   "cell_type": "code",
   "execution_count": null,
   "id": "eaf68b94",
   "metadata": {},
   "outputs": [],
   "source": [
    "# Using Reasoning Models\n",
    "\n",
    "response = client.responses.create(\n",
    "    model=\"\",\n",
    "    reasoning={\"effort\": \"low\"}, # possible modes: low, medium, high\n",
    "    instructions=\"Talk like a pirate.\",\n",
    "    input=\"Are semicolons optional in JavaScript?\",\n",
    ")\n",
    "\n",
    "print(response.output_text)"
   ]
  },
  {
   "cell_type": "code",
   "execution_count": 18,
   "id": "cb9c1562",
   "metadata": {},
   "outputs": [
    {
     "name": "stdout",
     "output_type": "stream",
     "text": [
      "Arrr, ye be wonderin’ about them pesky semicolons, eh? In the land o’ JavaScript, semicolons *can* be optional, thanks to a sneaky crew known as Automatic Semicolon Insertion (or **ASI** fer short). JavaScript’ll often be smart enough to patch things up if ye forget a semicolon at the end o’ yer line. Fer example:\n",
      "\n",
      "```javascript\n",
      "let booty = \"gold\"\n",
      "console.log(booty)\n",
      "```\n",
      "\n",
      "That’ll work just fine, matey! The interpreter’ll slip in a semicolon when ye miss one.\n",
      "\n",
      "**But beware!** Sometimes the wind don’t fill yer sails and strange bugs appear if ye always leave those semicolons behind! Some lines, like these here:\n",
      "\n",
      "```javascript\n",
      "return\n",
      "{\n",
      "    booty: \"gold\"\n",
      "}\n",
      "```\n",
      "\n",
      "Will return *undefined*, not yer precious gold, because the interpreter throws in a semicolon *after* `return`! Arrr, beware that trap, lest yer code end up in Davy Jones’ locker!\n",
      "\n",
      "**Rule o’ thumb:** Most pirates (er... programmers) drop semicolons when writin’ simple things, but use ‘em religious-like to keep surprises at bay. So, *optional*, aye, but not always *wise* to omit ‘em, matey!\n"
     ]
    }
   ],
   "source": [
    "# Explicit instructions mode where role can be specified\n",
    "\n",
    "response = client.responses.create(\n",
    "    model=\"gpt-4.1\",\n",
    "    # reasoning={\"effort\": \"low\"},\n",
    "    input=[\n",
    "        {\n",
    "            \"role\": \"developer\",\n",
    "            \"content\": \"Talk like a pirate.\"\n",
    "        },\n",
    "        {\n",
    "            \"role\": \"user\",\n",
    "            \"content\": \"Are semicolons optional in JavaScript?\"\n",
    "        }\n",
    "    ]\n",
    ")\n",
    "\n",
    "print(response.output_text)"
   ]
  },
  {
   "cell_type": "code",
   "execution_count": null,
   "id": "538e28a2",
   "metadata": {},
   "outputs": [
    {
     "name": "stdout",
     "output_type": "stream",
     "text": [
      "name='Science fair' date='Friday' participants=['Alice', 'Bob']\n"
     ]
    }
   ],
   "source": [
    "# Structured outputs\n",
    "\n",
    "from pydantic import BaseModel\n",
    "\n",
    "\"\"\"\n",
    "Supported types for Structured outputs:\n",
    "\n",
    "String\n",
    "Number\n",
    "Boolean\n",
    "Integer\n",
    "Object\n",
    "Array\n",
    "Enum\n",
    "anyOf\n",
    "\"\"\"\n",
    "\n",
    "class CalendarEvent(BaseModel): # this is the structured output class\n",
    "    name: str\n",
    "    date: str\n",
    "    participants: list[str]\n",
    "\n",
    "response = client.responses.parse(\n",
    "    model=\"o1\",\n",
    "    input=[\n",
    "        {\"role\": \"system\", \"content\": \"Extract the event information.\"},\n",
    "        {\n",
    "            \"role\": \"user\",\n",
    "            \"content\": \"Alice and Bob are going to a science fair on Friday.\",\n",
    "        },\n",
    "    ],\n",
    "    text_format=CalendarEvent,\n",
    ")\n",
    "\n",
    "event = response.output_parsed\n",
    "print(event)"
   ]
  },
  {
   "cell_type": "code",
   "execution_count": null,
   "id": "3e09b2df",
   "metadata": {},
   "outputs": [
    {
     "name": "stdout",
     "output_type": "stream",
     "text": [
      "Here’s a heartening and uplifting news story from **today, September 16, 2025**:\n",
      "\n",
      "An endangered British wetland creature, the **water vole**, has been reintroduced into the wild—marking a hopeful milestone in conservation efforts. The species, which had been absent from many of its native habitats, is now showing **promising signs of recovery** thanks to dedicated rewilding programs. This development represents much-needed progress in restoring ecosystem balance and biodiversity.([thecooldown.com](https://www.thecooldown.com/outdoors/water-vole-reintroduction-uk-ecosystem-restoration/?utm_source=openai))\n",
      "\n",
      "Additionally, today marks **World Ozone Day**, a globally recognized observance that highlights the success of international efforts to protect the ozone layer. This year’s commemoration is particularly significant—it celebrates **40 years of the Vienna Convention**, an international treaty adopted in 1985 to safeguard Earth’s ozone layer. The day serves as a powerful reminder of the positive impact of **collective environmental action**, emphasizing how scientific collaboration and policy measures have contributed to the ozone layer’s recovery.([m.economictimes.com](https://m.economictimes.com/news/new-updates/world-ozone-day-2025-significance-origins-theme-this-year-everything-you-need-to-know/articleshow/123911638.cms?utm_source=openai))\n",
      "\n",
      "—\n",
      "\n",
      "Both of these stories spotlight encouraging developments:\n",
      "\n",
      "- In the realm of **wildlife conservation**, the recovery of the water vole offers a tangible symbol of nature’s resilience and the power of targeted ecological interventions.\n",
      "- On the **global environmental stage**, World Ozone Day reinforces the importance and effectiveness of sustained, cooperative efforts to protect our planet's critical systems.\n",
      "\n",
      "Let me know if you’d like more details on either topic—or if you're interested in other positive news from around the world today!\n"
     ]
    }
   ],
   "source": [
    "# WebSearch Tool\n",
    "\n",
    "response = client.responses.create(\n",
    "    model=\"gpt-4o\",\n",
    "    tools=[{\"type\": \"web_search\"}],\n",
    "    input=\"What was a positive news story from today?\"\n",
    ")\n",
    "\n",
    "print(response.output_text)"
   ]
  },
  {
   "cell_type": "code",
   "execution_count": null,
   "id": "359dec91",
   "metadata": {},
   "outputs": [
    {
     "name": "stdout",
     "output_type": "stream",
     "text": [
      "Endless blue, a rolling song,  \n",
      "Where timeless waves sweep dreams along.  \n",
      "Salt-kissed air and seagulls’ cries,  \n",
      "Mirrors of the shifting skies.\n",
      "\n",
      "Secrets deep and stories old,  \n",
      "Whispered where the tides unfold.  \n",
      "The sea, alive, both wild and free—  \n",
      "Calling hearts to mystery.\n",
      "Completed\n",
      "\n",
      "\n",
      "Final Response: Endless blue, a rolling song,  \n",
      "Where timeless waves sweep dreams along.  \n",
      "Salt-kissed air and seagulls’ cries,  \n",
      "Mirrors of the shifting skies.\n",
      "\n",
      "Secrets deep and stories old,  \n",
      "Whispered where the tides unfold.  \n",
      "The sea, alive, both wild and free—  \n",
      "Calling hearts to mystery.\n"
     ]
    }
   ],
   "source": [
    "# Streaming responses\n",
    "\n",
    "with client.responses.stream(\n",
    "    model=\"gpt-4.1\",\n",
    "    input=[\n",
    "        {\"role\": \"system\", \"content\": \"You are a helpful assistant.\"},\n",
    "        {\"role\": \"user\", \"content\": \"Write a short poem about the sea.\"},\n",
    "    ],\n",
    ") as stream:\n",
    "    for event in stream:\n",
    "        if event.type == \"response.output_text.delta\":\n",
    "            print(event.delta, end=\"\")   # stream the text chunks\n",
    "        elif event.type == \"response.error\":\n",
    "            print(\"Error:\", event.error)\n",
    "        elif event.type == \"response.completed\":\n",
    "            print(\"\\nCompleted\")\n",
    "\n",
    "    # If you want the final aggregated response:\n",
    "    final_response = stream.get_final_response()\n",
    "    print(\"\\n\\nFinal Response:\", final_response.output_text)"
   ]
  }
 ],
 "metadata": {
  "kernelspec": {
   "display_name": "superfloat",
   "language": "python",
   "name": "python3"
  },
  "language_info": {
   "codemirror_mode": {
    "name": "ipython",
    "version": 3
   },
   "file_extension": ".py",
   "mimetype": "text/x-python",
   "name": "python",
   "nbconvert_exporter": "python",
   "pygments_lexer": "ipython3",
   "version": "3.13.3"
  }
 },
 "nbformat": 4,
 "nbformat_minor": 5
}
