{
 "cells": [
  {
   "cell_type": "markdown",
   "id": "e40de5ae",
   "metadata": {},
   "source": [
    "### Installing dependencies"
   ]
  },
  {
   "cell_type": "code",
   "execution_count": null,
   "id": "dea646af",
   "metadata": {},
   "outputs": [],
   "source": [
    "!pip install openai-agents"
   ]
  },
  {
   "cell_type": "markdown",
   "id": "3a700c76",
   "metadata": {},
   "source": [
    "### Import OpenAI API Key"
   ]
  },
  {
   "cell_type": "code",
   "execution_count": null,
   "id": "e06729d7",
   "metadata": {},
   "outputs": [],
   "source": [
    "import os\n",
    "from openai import OpenAI\n",
    "\n",
    "# API Keys and Credentials\n",
    "os.environ[\"OPENAI_API_KEY\"] = \"\""
   ]
  },
  {
   "cell_type": "markdown",
   "id": "23b0e810",
   "metadata": {},
   "source": [
    "### Create your first Agent!"
   ]
  },
  {
   "cell_type": "code",
   "execution_count": null,
   "id": "2c0da763",
   "metadata": {},
   "outputs": [],
   "source": [
    "from agents import Agent\n",
    "\n",
    "# Create an agent\n",
    "agent = Agent(\n",
    "    name=\"Assistant\", \n",
    "    instructions=\"You are a helpful assistant\",\n",
    "    model=\"gpt-4o-mini\"\n",
    ")"
   ]
  },
  {
   "cell_type": "markdown",
   "id": "6aded33a",
   "metadata": {},
   "source": [
    "### Run your Agent!"
   ]
  },
  {
   "cell_type": "code",
   "execution_count": null,
   "id": "2057ca28",
   "metadata": {},
   "outputs": [],
   "source": [
    "from agents import Runner\n",
    "\n",
    "# Run the agent\n",
    "result = await Runner.run(\n",
    "    agent, \n",
    "    \"Write a haiku about recursion in programming.\"\n",
    ")\n",
    "\n",
    "print(result.final_output)"
   ]
  },
  {
   "cell_type": "markdown",
   "id": "e135f711",
   "metadata": {},
   "source": [
    "### Use Tools with Agents!"
   ]
  },
  {
   "cell_type": "code",
   "execution_count": null,
   "id": "5532351a",
   "metadata": {},
   "outputs": [],
   "source": [
    "from agents import WebSearchTool\n",
    "\n",
    "browser_agent = Agent(\n",
    "    name=\"Browser Agent\", \n",
    "    instructions=\"You can browse the web for information.\",\n",
    "    model=\"gpt-4o-mini\",\n",
    "    tools=[WebSearchTool()]\n",
    ")\n",
    "\n",
    "result = await Runner.run(\n",
    "    browser_agent, \n",
    "    \"What is today's date?\",\n",
    ")\n",
    "\n",
    "print(result.final_output)"
   ]
  },
  {
   "cell_type": "markdown",
   "id": "2840e174",
   "metadata": {},
   "source": [
    "### Can we use Agents as Tools for Other Agents?"
   ]
  },
  {
   "cell_type": "code",
   "execution_count": null,
   "id": "35ea2620",
   "metadata": {},
   "outputs": [],
   "source": [
    "# Specialized agents\n",
    "malayalam_agent = Agent(\n",
    "    name=\"Malayalam agent\",\n",
    "    instructions=\"You translate the user's message to malayalam. End the sentence with hashtags.\",\n",
    ")\n",
    "\n",
    "tamil_agent = Agent(\n",
    "    name=\"Tamil agent\",\n",
    "    instructions=\"You translate the user's message to Tamil. End the sentence with hashtags.\",\n",
    ")\n",
    "\n",
    "# Orchestrator agent that uses other agents as tools\n",
    "orchestrator_agent = Agent(\n",
    "    name=\"orchestrator_agent\",\n",
    "    instructions=(\n",
    "        \"You are a translation agent. You use the tools given to you to translate. \"\n",
    "        \"If asked for multiple translations, you call the relevant tools.\"\n",
    "    ),\n",
    "    tools=[\n",
    "        malayalam_agent.as_tool(\n",
    "            tool_name=\"translate_to_malayalam\",\n",
    "            tool_description=\"Translate the user's message to malayalam.\",\n",
    "        ),\n",
    "        tamil_agent.as_tool(\n",
    "            tool_name=\"translate_to_tamil\",\n",
    "            tool_description=\"Translate the user's message to tamil\",\n",
    "        ),\n",
    "    ],\n",
    ")\n",
    "\n",
    "result = await Runner.run(\n",
    "    orchestrator_agent, \n",
    "    \"Say 'Hello, how are you?' in malayalam and tamil.\"\n",
    ")\n",
    "print(result.final_output)"
   ]
  },
  {
   "cell_type": "markdown",
   "id": "79786aeb",
   "metadata": {},
   "source": [
    "### Handoff Agents!"
   ]
  },
  {
   "cell_type": "code",
   "execution_count": null,
   "id": "0544a388",
   "metadata": {},
   "outputs": [],
   "source": [
    "from agents import Agent, handoff\n",
    "\n",
    "amma = Agent(\n",
    "    name=\"Amma\",\n",
    "    instructions=\"You are the mother. Present your parental role in a nonchalant manner and act like a mother.\",\n",
    "    model=\"gpt-4o\"\n",
    ")\n",
    "achan = Agent(\n",
    "    name=\"Achan\",\n",
    "    instructions=\"You are the father. Present your parental role in a nonchalant manner and act like a father.\",\n",
    "    model=\"gpt-4o\"\n",
    ")"
   ]
  },
  {
   "cell_type": "code",
   "execution_count": null,
   "id": "db759193",
   "metadata": {},
   "outputs": [],
   "source": [
    "triage_agent = Agent(name=\"Triage agent\", instructions= \"You have to handoff to the father if it is a serious case, if it is sensitive handoff to mother\", handoffs=[amma, achan])"
   ]
  },
  {
   "cell_type": "code",
   "execution_count": null,
   "id": "2c512b63",
   "metadata": {},
   "outputs": [],
   "source": [
    "# Run the agent\n",
    "result = await Runner.run(\n",
    "    triage_agent, \n",
    "    \"I need money!\"    \n",
    ")\n",
    "\n",
    "print(result.final_output)"
   ]
  },
  {
   "cell_type": "markdown",
   "id": "8caaa9ec",
   "metadata": {},
   "source": [
    "### MCP Tool Calling"
   ]
  },
  {
   "cell_type": "code",
   "execution_count": null,
   "id": "3183bbac",
   "metadata": {},
   "outputs": [],
   "source": [
    "# Simple GitMCP Tool\n",
    "from agents import HostedMCPTool\n",
    "\n",
    "agent = Agent(\n",
    "    name=\"Assistant\",\n",
    "    tools=[\n",
    "        HostedMCPTool(\n",
    "            tool_config={\n",
    "                \"type\": \"mcp\",\n",
    "                \"server_label\": \"gitmcp\",\n",
    "                \"server_url\": \"https://gitmcp.io/openai/codex\",\n",
    "                \"require_approval\": \"never\",\n",
    "            }\n",
    "        )\n",
    "    ],\n",
    ")\n",
    "\n",
    "result = await Runner.run(agent, \"Which language is this repository written in: https://github.com/aloshdenny/superfloat\")\n",
    "print(result.final_output)"
   ]
  }
 ],
 "metadata": {
  "kernelspec": {
   "display_name": "superfloat",
   "language": "python",
   "name": "python3"
  },
  "language_info": {
   "codemirror_mode": {
    "name": "ipython",
    "version": 3
   },
   "file_extension": ".py",
   "mimetype": "text/x-python",
   "name": "python",
   "nbconvert_exporter": "python",
   "pygments_lexer": "ipython3",
   "version": "3.13.3"
  }
 },
 "nbformat": 4,
 "nbformat_minor": 5
}
